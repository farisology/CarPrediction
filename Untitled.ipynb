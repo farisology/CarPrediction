{
 "cells": [
  {
   "cell_type": "markdown",
   "metadata": {},
   "source": [
    "# Training Decision Tree Model\n",
    "1. Read dataset.\n",
    "2. Preprocessing.\n",
    "3. Splitting the dataset.\n",
    "4. Training a Decision Tree model.\n",
    "5. Creating persistent model."
   ]
  },
  {
   "cell_type": "code",
   "execution_count": 8,
   "metadata": {},
   "outputs": [
    {
     "data": {
      "text/html": [
       "<div>\n",
       "<style scoped>\n",
       "    .dataframe tbody tr th:only-of-type {\n",
       "        vertical-align: middle;\n",
       "    }\n",
       "\n",
       "    .dataframe tbody tr th {\n",
       "        vertical-align: top;\n",
       "    }\n",
       "\n",
       "    .dataframe thead th {\n",
       "        text-align: right;\n",
       "    }\n",
       "</style>\n",
       "<table border=\"1\" class=\"dataframe\">\n",
       "  <thead>\n",
       "    <tr style=\"text-align: right;\">\n",
       "      <th></th>\n",
       "      <th>Buying</th>\n",
       "      <th>Maint</th>\n",
       "      <th>doors</th>\n",
       "      <th>persons</th>\n",
       "      <th>lug-boot</th>\n",
       "      <th>safety</th>\n",
       "      <th>target</th>\n",
       "    </tr>\n",
       "  </thead>\n",
       "  <tbody>\n",
       "    <tr>\n",
       "      <th>0</th>\n",
       "      <td>vhigh</td>\n",
       "      <td>vhigh</td>\n",
       "      <td>2</td>\n",
       "      <td>2</td>\n",
       "      <td>small</td>\n",
       "      <td>low</td>\n",
       "      <td>unacc</td>\n",
       "    </tr>\n",
       "    <tr>\n",
       "      <th>1</th>\n",
       "      <td>vhigh</td>\n",
       "      <td>vhigh</td>\n",
       "      <td>2</td>\n",
       "      <td>2</td>\n",
       "      <td>small</td>\n",
       "      <td>med</td>\n",
       "      <td>unacc</td>\n",
       "    </tr>\n",
       "    <tr>\n",
       "      <th>2</th>\n",
       "      <td>vhigh</td>\n",
       "      <td>vhigh</td>\n",
       "      <td>2</td>\n",
       "      <td>2</td>\n",
       "      <td>small</td>\n",
       "      <td>high</td>\n",
       "      <td>unacc</td>\n",
       "    </tr>\n",
       "    <tr>\n",
       "      <th>3</th>\n",
       "      <td>vhigh</td>\n",
       "      <td>vhigh</td>\n",
       "      <td>2</td>\n",
       "      <td>2</td>\n",
       "      <td>med</td>\n",
       "      <td>low</td>\n",
       "      <td>unacc</td>\n",
       "    </tr>\n",
       "    <tr>\n",
       "      <th>4</th>\n",
       "      <td>vhigh</td>\n",
       "      <td>vhigh</td>\n",
       "      <td>2</td>\n",
       "      <td>2</td>\n",
       "      <td>med</td>\n",
       "      <td>med</td>\n",
       "      <td>unacc</td>\n",
       "    </tr>\n",
       "  </tbody>\n",
       "</table>\n",
       "</div>"
      ],
      "text/plain": [
       "  Buying  Maint doors persons lug-boot safety target\n",
       "0  vhigh  vhigh     2       2    small    low  unacc\n",
       "1  vhigh  vhigh     2       2    small    med  unacc\n",
       "2  vhigh  vhigh     2       2    small   high  unacc\n",
       "3  vhigh  vhigh     2       2      med    low  unacc\n",
       "4  vhigh  vhigh     2       2      med    med  unacc"
      ]
     },
     "execution_count": 8,
     "metadata": {},
     "output_type": "execute_result"
    }
   ],
   "source": [
    "import numpy as np\n",
    "import pandas as pd\n",
    "from sklearn.cross_validation import train_test_split\n",
    "from sklearn.tree import DecisionTreeClassifier\n",
    "from sklearn.metrics import accuracy_score\n",
    "from sklearn import tree\n",
    "from sklearn.externals import joblib\n",
    "\n",
    "\n",
    "data = pd.read_csv('car.data.txt', names=['Buying', 'Maint','doors', 'persons','lug-boot','safety','target'])\n",
    "data.head()"
   ]
  },
  {
   "cell_type": "code",
   "execution_count": 4,
   "metadata": {},
   "outputs": [
    {
     "name": "stdout",
     "output_type": "stream",
     "text": [
      "<class 'pandas.core.frame.DataFrame'>\n",
      "RangeIndex: 1728 entries, 0 to 1727\n",
      "Data columns (total 7 columns):\n",
      "Buying      1728 non-null object\n",
      "Maint       1728 non-null object\n",
      "doors       1728 non-null object\n",
      "persons     1728 non-null object\n",
      "lug-boot    1728 non-null object\n",
      "safety      1728 non-null object\n",
      "target      1728 non-null object\n",
      "dtypes: object(7)\n",
      "memory usage: 94.6+ KB\n"
     ]
    }
   ],
   "source": [
    "data.info()"
   ]
  },
  {
   "cell_type": "code",
   "execution_count": 5,
   "metadata": {},
   "outputs": [
    {
     "data": {
      "text/plain": [
       "array(['unacc', 'acc', 'vgood', 'good'], dtype=object)"
      ]
     },
     "execution_count": 5,
     "metadata": {},
     "output_type": "execute_result"
    }
   ],
   "source": [
    "# Check the number and names of classes\n",
    "data['target'].unique()"
   ]
  },
  {
   "cell_type": "code",
   "execution_count": 6,
   "metadata": {},
   "outputs": [],
   "source": [
    "# We need to encode the categorical columns into numeric\n",
    "\n",
    "def Trans_Buying(x):\n",
    "    \n",
    "    if x== 'vhigh': \n",
    "        return 0\n",
    "    if x=='high':\n",
    "        return 1\n",
    "    if x== 'med':\n",
    "        return 2\n",
    "    if x == 'low':\n",
    "        return 3 \n",
    "data['Buying']=data['Buying'].apply(Trans_Buying)\n",
    "#print(data['Buying'])\n",
    "\n",
    "def Trans_Maint(x):\n",
    "    \n",
    "    if x== 'vhigh': \n",
    "        return 0\n",
    "    if x=='high':\n",
    "        return 1\n",
    "    if x== 'med':\n",
    "        return 2\n",
    "    if x == 'low':\n",
    "        return 3 \n",
    "data['Maint']=data['Maint'].apply(Trans_Maint)\n",
    "#print(data['Maint'])\n",
    "\n",
    "def Trans_doors(x):\n",
    "    \n",
    "    if x== '2': \n",
    "        return 0\n",
    "    if x=='3':\n",
    "        return 1\n",
    "    if x== '4':\n",
    "        return 2\n",
    "    if x == '5more':\n",
    "        return 3 \n",
    "data['doors']=data['doors'].apply(Trans_doors)\n",
    "#print(data['doors'])\n",
    "\n",
    "def Trans_persons(x):\n",
    "    \n",
    "    if x== '2': \n",
    "        return 0\n",
    "    if x=='4':\n",
    "        return 1\n",
    "    if x== 'more':\n",
    "        return 2\n",
    "   \n",
    "data['persons']=data['persons'].apply(Trans_persons)\n",
    "#print(data['persons'])\n",
    "\n",
    "def Trans_lug_boot(x):\n",
    "    \n",
    "    if x== 'small': \n",
    "        return 0\n",
    "    if x=='med':\n",
    "        return 1\n",
    "    if x== 'big':\n",
    "        return 2\n",
    "   \n",
    "data['lug-boot']=data['lug-boot'].apply(Trans_lug_boot)\n",
    "#print(data['lug-boot'])\n",
    "\n",
    "def Trans_safety(x):\n",
    "    \n",
    "    if x== 'low': \n",
    "        return 0\n",
    "    if x=='med':\n",
    "        return 1\n",
    "    if x== 'high':\n",
    "        return 2\n",
    "   \n",
    "data['safety']=data['safety'].apply(Trans_safety)\n",
    "#print(data['safety'])\n",
    "\n",
    "def Trans_target(x):\n",
    "    \n",
    "    if x == 'unacc':\n",
    "        return 0\n",
    "    if x == 'acc':\n",
    "        return 1\n",
    "    if x == 'vgood':\n",
    "        return 2\n",
    "    if x == 'good':\n",
    "        return 3\n",
    "\n",
    "data['target'] = data['target'].apply(Trans_target)\n"
   ]
  },
  {
   "cell_type": "code",
   "execution_count": 7,
   "metadata": {},
   "outputs": [],
   "source": [
    "# Choosing columns for \n",
    "feature_columns = ['Buying', 'Maint','doors', 'persons','lug-boot','safety']\n",
    "classNames = ['unacc', 'acc', 'vgood', 'good']\n",
    "\n",
    "labels = data[\"target\"].values\n",
    "features = data[list(feature_columns)].values\n",
    "\n",
    "clf = tree.DecisionTreeClassifier(criterion = 'entropy')\n",
    "clf = clf.fit(features, labels)"
   ]
  },
  {
   "cell_type": "code",
   "execution_count": 9,
   "metadata": {},
   "outputs": [
    {
     "name": "stdout",
     "output_type": "stream",
     "text": [
      "Saving model to car-DT-v1.0.pkl...\n"
     ]
    },
    {
     "data": {
      "text/plain": [
       "['car-DT-v1.0.pkl']"
      ]
     },
     "execution_count": 9,
     "metadata": {},
     "output_type": "execute_result"
    }
   ],
   "source": [
    "# Create persistent model\n",
    "model_filename = 'car-DT-v1.0.pkl'\n",
    "print(\"Saving model to {}...\".format(model_filename))\n",
    "joblib.dump(clf, model_filename)"
   ]
  },
  {
   "cell_type": "code",
   "execution_count": null,
   "metadata": {},
   "outputs": [],
   "source": []
  }
 ],
 "metadata": {
  "kernelspec": {
   "display_name": "Python 3",
   "language": "python",
   "name": "python3"
  },
  "language_info": {
   "codemirror_mode": {
    "name": "ipython",
    "version": 3
   },
   "file_extension": ".py",
   "mimetype": "text/x-python",
   "name": "python",
   "nbconvert_exporter": "python",
   "pygments_lexer": "ipython3",
   "version": "3.5.5"
  }
 },
 "nbformat": 4,
 "nbformat_minor": 2
}
